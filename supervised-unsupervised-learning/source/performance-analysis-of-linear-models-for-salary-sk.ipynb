{
 "cells": [
  {
   "cell_type": "markdown",
   "id": "5ee03648",
   "metadata": {
    "papermill": {
     "duration": 0.008584,
     "end_time": "2025-06-06T06:32:09.211962",
     "exception": false,
     "start_time": "2025-06-06T06:32:09.203378",
     "status": "completed"
    },
    "tags": []
   },
   "source": [
    "# Performance Analysis of Linear Models for Salary Prediction   \n",
    "#### By *Saurabh Kudesia* | Dec 2024 \n",
    "[![GitHub](https://img.shields.io/badge/GitHub-100000?style=flat&logo=github&logoColor=white)](https://github.com/saurabh-kudesia) [![Kaggle](https://img.shields.io/badge/Kaggle-20BEFF?style=flat&logo=kaggle&logoColor=white)](https://www.kaggle.com/saurabhkudesia) [![LinkedIn](https://img.shields.io/badge/LinkedIn-0A66C2?style=flat&logo=linkedin&logoColor=white)](https://www.linkedin.com/in/saurabhkudesia/)\n",
    "\n",
    "\n",
    "---\n",
    "© 2024 Saurabh Kudesia\n",
    "\n",
    "*This project is licensed under the [MIT License](https://opensource.org/licenses/MIT). You are free to use, modify, and distribute this code, provided you include proper attribution and retain the license notice.* \n",
    "\n",
    "[![License: MIT](https://img.shields.io/badge/License-MIT-blue.svg)](https://opensource.org/licenses/MIT) "
   ]
  },
  {
   "cell_type": "markdown",
   "id": "35d16242",
   "metadata": {
    "papermill": {
     "duration": 0.006816,
     "end_time": "2025-06-06T06:32:09.226184",
     "exception": false,
     "start_time": "2025-06-06T06:32:09.219368",
     "status": "completed"
    },
    "tags": []
   },
   "source": [
    "<img src=\"https://images.unsplash.com/photo-1553729459-efe14ef6055d?q=80&w=2070&auto=format&fit=crop&ixlib=rb-4.1.0&ixid=M3wxMjA3fDB8MHxwaG90by1wYWdlfHx8fGVufDB8fHx8fA%3D%3D\" alt=\"salary\" width=\"100%\" style=\"margin-bottom: 10px;\">\n",
    "\n",
    "*Image Courtsey: [Unsplash.com](https://unsplash.com)*"
   ]
  },
  {
   "cell_type": "markdown",
   "id": "0fcb2876",
   "metadata": {
    "papermill": {
     "duration": 0.006823,
     "end_time": "2025-06-06T06:32:09.241320",
     "exception": false,
     "start_time": "2025-06-06T06:32:09.234497",
     "status": "completed"
    },
    "tags": []
   },
   "source": [
    "### Context\n",
    "\n",
    "This project demonstrates how to train and compare multiple regression models—*Linear Regression*, *Decision Tree Regressor*, *Random Forest Regressor*, and *Support Vector Regressor* — to predict salary based on years of experience. The models are evaluated using key performance metrics, including R², Mean Absolute Error (MAE), Mean Squared Error (MSE), and others. The code allows users to input years of experience to predict salary and compare the accuracy of each model using both training and test data.\n",
    "\n",
    "The primary focus of this analysis is to assess how well these models predict salaries, with an emphasis on their ability to generalize. By analyzing metrics like R², MAE, and MSE, I aim to identify the most effective model and highlight potential areas for improvement.\n",
    "\n",
    "### Key Purposes\n",
    "- **Model Comparison:** Compares multiple regression models to identify the best performer based on various metrics.\n",
    "- **Model Evaluation:** Assesses how well each model generalizes to unseen data, evaluating performance on both training and test datasets.\n",
    "- **Visualization:** Visual plots to compare model performance, helping to identify issues such as overfitting or underfitting.\n",
    "- **Actionable Insights:** Highlights performance discrepancies between training and test sets, offering insights on potential model improvements.\n",
    "\n",
    "### Value to the User\n",
    "- **Informed Model Selection:** Helps users choose the best regression model by comparing their performance.\n",
    "- **Visual and Quantitative Insights:** Provides both visual and numerical insights into model performance, aiding in decision-making.\n",
    "- **Guidance for Improvement:** Supports model enhancement by offering actionable insights, such as the need for hyperparameter tuning or feature engineering."
   ]
  },
  {
   "cell_type": "markdown",
   "id": "cc97bd36",
   "metadata": {
    "papermill": {
     "duration": 0.007439,
     "end_time": "2025-06-06T06:32:09.256284",
     "exception": false,
     "start_time": "2025-06-06T06:32:09.248845",
     "status": "completed"
    },
    "tags": []
   },
   "source": [
    "### Import Libraries and data"
   ]
  },
  {
   "cell_type": "code",
   "execution_count": 1,
   "id": "1daece57",
   "metadata": {
    "execution": {
     "iopub.execute_input": "2025-06-06T06:32:09.272925Z",
     "iopub.status.busy": "2025-06-06T06:32:09.272469Z",
     "iopub.status.idle": "2025-06-06T06:32:14.367007Z",
     "shell.execute_reply": "2025-06-06T06:32:14.365752Z"
    },
    "papermill": {
     "duration": 5.105884,
     "end_time": "2025-06-06T06:32:14.369548",
     "exception": false,
     "start_time": "2025-06-06T06:32:09.263664",
     "status": "completed"
    },
    "tags": []
   },
   "outputs": [],
   "source": [
    "import numpy as np\n",
    "import pandas as pd\n",
    "import matplotlib\n",
    "import matplotlib.pyplot as plt\n",
    "%matplotlib inline\n",
    "import seaborn as sns\n",
    "import sklearn\n",
    "import scipy\n",
    "\n",
    "from sklearn.metrics import confusion_matrix, accuracy_score\n",
    "from sklearn.model_selection import train_test_split, cross_val_score, GridSearchCV\n",
    "from sklearn.linear_model import LinearRegression\n",
    "from sklearn.tree import DecisionTreeRegressor\n",
    "from sklearn.ensemble import RandomForestRegressor, GradientBoostingRegressor\n",
    "from sklearn.svm import SVR\n",
    "from sklearn.metrics import mean_absolute_error, mean_squared_error, r2_score, mean_absolute_percentage_error\n",
    "from sklearn.model_selection import GridSearchCV\n",
    "\n",
    "from sklearn.model_selection import cross_val_score\n",
    "from sklearn.preprocessing import StandardScaler\n",
    "from sklearn.preprocessing import PolynomialFeatures\n",
    "\n",
    "import statsmodels\n",
    "import statsmodels.api as sm\n",
    "from scipy import stats"
   ]
  },
  {
   "cell_type": "code",
   "execution_count": 2,
   "id": "d9d88e3f",
   "metadata": {
    "execution": {
     "iopub.execute_input": "2025-06-06T06:32:14.386112Z",
     "iopub.status.busy": "2025-06-06T06:32:14.385507Z",
     "iopub.status.idle": "2025-06-06T06:32:14.394306Z",
     "shell.execute_reply": "2025-06-06T06:32:14.393002Z"
    },
    "papermill": {
     "duration": 0.019706,
     "end_time": "2025-06-06T06:32:14.396709",
     "exception": false,
     "start_time": "2025-06-06T06:32:14.377003",
     "status": "completed"
    },
    "tags": []
   },
   "outputs": [
    {
     "name": "stdout",
     "output_type": "stream",
     "text": [
      "numpy version: 1.26.4\n",
      "pandas version: 2.2.3\n",
      "matplotlib version: 3.7.5\n",
      "seaborn version: 0.12.2\n",
      "scikit-learn version: 1.2.2\n",
      "statsmodels version: 0.14.2\n",
      "scipy version: 1.14.1\n"
     ]
    }
   ],
   "source": [
    "print(\"numpy version:\", np.__version__)\n",
    "print(\"pandas version:\", pd.__version__)\n",
    "print(\"matplotlib version:\", matplotlib.__version__)\n",
    "print(\"seaborn version:\", sns.__version__)\n",
    "print(\"scikit-learn version:\", sklearn.__version__)\n",
    "print(\"statsmodels version:\", statsmodels.__version__)\n",
    "print(\"scipy version:\", scipy.__version__)"
   ]
  },
  {
   "cell_type": "code",
   "execution_count": 3,
   "id": "1eef27f7",
   "metadata": {
    "execution": {
     "iopub.execute_input": "2025-06-06T06:32:14.414195Z",
     "iopub.status.busy": "2025-06-06T06:32:14.413760Z",
     "iopub.status.idle": "2025-06-06T06:32:14.453951Z",
     "shell.execute_reply": "2025-06-06T06:32:14.452800Z"
    },
    "papermill": {
     "duration": 0.052205,
     "end_time": "2025-06-06T06:32:14.456486",
     "exception": false,
     "start_time": "2025-06-06T06:32:14.404281",
     "status": "completed"
    },
    "tags": []
   },
   "outputs": [],
   "source": [
    "df = pd.read_csv ('/kaggle/input/salary-dataset-simple-linear-regression/Salary_dataset.csv')"
   ]
  },
  {
   "cell_type": "code",
   "execution_count": 4,
   "id": "09dd8eb9",
   "metadata": {
    "execution": {
     "iopub.execute_input": "2025-06-06T06:32:14.473892Z",
     "iopub.status.busy": "2025-06-06T06:32:14.473490Z",
     "iopub.status.idle": "2025-06-06T06:32:14.506427Z",
     "shell.execute_reply": "2025-06-06T06:32:14.505304Z"
    },
    "papermill": {
     "duration": 0.044194,
     "end_time": "2025-06-06T06:32:14.508505",
     "exception": false,
     "start_time": "2025-06-06T06:32:14.464311",
     "status": "completed"
    },
    "tags": []
   },
   "outputs": [
    {
     "name": "stdout",
     "output_type": "stream",
     "text": [
      "<class 'pandas.core.frame.DataFrame'>\n",
      "RangeIndex: 30 entries, 0 to 29\n",
      "Data columns (total 3 columns):\n",
      " #   Column           Non-Null Count  Dtype  \n",
      "---  ------           --------------  -----  \n",
      " 0   Unnamed: 0       30 non-null     int64  \n",
      " 1   YearsExperience  30 non-null     float64\n",
      " 2   Salary           30 non-null     float64\n",
      "dtypes: float64(2), int64(1)\n",
      "memory usage: 848.0 bytes\n"
     ]
    }
   ],
   "source": [
    "df.info()"
   ]
  },
  {
   "cell_type": "code",
   "execution_count": 5,
   "id": "26a2e7d3",
   "metadata": {
    "execution": {
     "iopub.execute_input": "2025-06-06T06:32:14.525477Z",
     "iopub.status.busy": "2025-06-06T06:32:14.525039Z",
     "iopub.status.idle": "2025-06-06T06:32:14.552771Z",
     "shell.execute_reply": "2025-06-06T06:32:14.551601Z"
    },
    "papermill": {
     "duration": 0.038802,
     "end_time": "2025-06-06T06:32:14.555270",
     "exception": false,
     "start_time": "2025-06-06T06:32:14.516468",
     "status": "completed"
    },
    "tags": []
   },
   "outputs": [
    {
     "data": {
      "text/html": [
       "<div>\n",
       "<style scoped>\n",
       "    .dataframe tbody tr th:only-of-type {\n",
       "        vertical-align: middle;\n",
       "    }\n",
       "\n",
       "    .dataframe tbody tr th {\n",
       "        vertical-align: top;\n",
       "    }\n",
       "\n",
       "    .dataframe thead th {\n",
       "        text-align: right;\n",
       "    }\n",
       "</style>\n",
       "<table border=\"1\" class=\"dataframe\">\n",
       "  <thead>\n",
       "    <tr style=\"text-align: right;\">\n",
       "      <th></th>\n",
       "      <th>Unnamed: 0</th>\n",
       "      <th>YearsExperience</th>\n",
       "      <th>Salary</th>\n",
       "    </tr>\n",
       "  </thead>\n",
       "  <tbody>\n",
       "    <tr>\n",
       "      <th>count</th>\n",
       "      <td>30.000000</td>\n",
       "      <td>30.000000</td>\n",
       "      <td>30.000000</td>\n",
       "    </tr>\n",
       "    <tr>\n",
       "      <th>mean</th>\n",
       "      <td>14.500000</td>\n",
       "      <td>5.413333</td>\n",
       "      <td>76004.000000</td>\n",
       "    </tr>\n",
       "    <tr>\n",
       "      <th>std</th>\n",
       "      <td>8.803408</td>\n",
       "      <td>2.837888</td>\n",
       "      <td>27414.429785</td>\n",
       "    </tr>\n",
       "    <tr>\n",
       "      <th>min</th>\n",
       "      <td>0.000000</td>\n",
       "      <td>1.200000</td>\n",
       "      <td>37732.000000</td>\n",
       "    </tr>\n",
       "    <tr>\n",
       "      <th>25%</th>\n",
       "      <td>7.250000</td>\n",
       "      <td>3.300000</td>\n",
       "      <td>56721.750000</td>\n",
       "    </tr>\n",
       "    <tr>\n",
       "      <th>50%</th>\n",
       "      <td>14.500000</td>\n",
       "      <td>4.800000</td>\n",
       "      <td>65238.000000</td>\n",
       "    </tr>\n",
       "    <tr>\n",
       "      <th>75%</th>\n",
       "      <td>21.750000</td>\n",
       "      <td>7.800000</td>\n",
       "      <td>100545.750000</td>\n",
       "    </tr>\n",
       "    <tr>\n",
       "      <th>max</th>\n",
       "      <td>29.000000</td>\n",
       "      <td>10.600000</td>\n",
       "      <td>122392.000000</td>\n",
       "    </tr>\n",
       "  </tbody>\n",
       "</table>\n",
       "</div>"
      ],
      "text/plain": [
       "       Unnamed: 0  YearsExperience         Salary\n",
       "count   30.000000        30.000000      30.000000\n",
       "mean    14.500000         5.413333   76004.000000\n",
       "std      8.803408         2.837888   27414.429785\n",
       "min      0.000000         1.200000   37732.000000\n",
       "25%      7.250000         3.300000   56721.750000\n",
       "50%     14.500000         4.800000   65238.000000\n",
       "75%     21.750000         7.800000  100545.750000\n",
       "max     29.000000        10.600000  122392.000000"
      ]
     },
     "execution_count": 5,
     "metadata": {},
     "output_type": "execute_result"
    }
   ],
   "source": [
    "df.describe()"
   ]
  },
  {
   "cell_type": "code",
   "execution_count": 6,
   "id": "2dc7c9cd",
   "metadata": {
    "execution": {
     "iopub.execute_input": "2025-06-06T06:32:14.575114Z",
     "iopub.status.busy": "2025-06-06T06:32:14.574677Z",
     "iopub.status.idle": "2025-06-06T06:32:14.585576Z",
     "shell.execute_reply": "2025-06-06T06:32:14.584568Z"
    },
    "papermill": {
     "duration": 0.023321,
     "end_time": "2025-06-06T06:32:14.587795",
     "exception": false,
     "start_time": "2025-06-06T06:32:14.564474",
     "status": "completed"
    },
    "tags": []
   },
   "outputs": [
    {
     "data": {
      "text/html": [
       "<div>\n",
       "<style scoped>\n",
       "    .dataframe tbody tr th:only-of-type {\n",
       "        vertical-align: middle;\n",
       "    }\n",
       "\n",
       "    .dataframe tbody tr th {\n",
       "        vertical-align: top;\n",
       "    }\n",
       "\n",
       "    .dataframe thead th {\n",
       "        text-align: right;\n",
       "    }\n",
       "</style>\n",
       "<table border=\"1\" class=\"dataframe\">\n",
       "  <thead>\n",
       "    <tr style=\"text-align: right;\">\n",
       "      <th></th>\n",
       "      <th>Unnamed: 0</th>\n",
       "      <th>YearsExperience</th>\n",
       "      <th>Salary</th>\n",
       "    </tr>\n",
       "  </thead>\n",
       "  <tbody>\n",
       "    <tr>\n",
       "      <th>0</th>\n",
       "      <td>0</td>\n",
       "      <td>1.2</td>\n",
       "      <td>39344.0</td>\n",
       "    </tr>\n",
       "    <tr>\n",
       "      <th>1</th>\n",
       "      <td>1</td>\n",
       "      <td>1.4</td>\n",
       "      <td>46206.0</td>\n",
       "    </tr>\n",
       "    <tr>\n",
       "      <th>2</th>\n",
       "      <td>2</td>\n",
       "      <td>1.6</td>\n",
       "      <td>37732.0</td>\n",
       "    </tr>\n",
       "    <tr>\n",
       "      <th>3</th>\n",
       "      <td>3</td>\n",
       "      <td>2.1</td>\n",
       "      <td>43526.0</td>\n",
       "    </tr>\n",
       "    <tr>\n",
       "      <th>4</th>\n",
       "      <td>4</td>\n",
       "      <td>2.3</td>\n",
       "      <td>39892.0</td>\n",
       "    </tr>\n",
       "  </tbody>\n",
       "</table>\n",
       "</div>"
      ],
      "text/plain": [
       "   Unnamed: 0  YearsExperience   Salary\n",
       "0           0              1.2  39344.0\n",
       "1           1              1.4  46206.0\n",
       "2           2              1.6  37732.0\n",
       "3           3              2.1  43526.0\n",
       "4           4              2.3  39892.0"
      ]
     },
     "execution_count": 6,
     "metadata": {},
     "output_type": "execute_result"
    }
   ],
   "source": [
    "df.head()"
   ]
  },
  {
   "cell_type": "code",
   "execution_count": 7,
   "id": "a6c7d796",
   "metadata": {
    "execution": {
     "iopub.execute_input": "2025-06-06T06:32:14.605306Z",
     "iopub.status.busy": "2025-06-06T06:32:14.604911Z",
     "iopub.status.idle": "2025-06-06T06:32:14.617954Z",
     "shell.execute_reply": "2025-06-06T06:32:14.616801Z"
    },
    "papermill": {
     "duration": 0.024148,
     "end_time": "2025-06-06T06:32:14.620041",
     "exception": false,
     "start_time": "2025-06-06T06:32:14.595893",
     "status": "completed"
    },
    "tags": []
   },
   "outputs": [
    {
     "data": {
      "text/html": [
       "<div>\n",
       "<style scoped>\n",
       "    .dataframe tbody tr th:only-of-type {\n",
       "        vertical-align: middle;\n",
       "    }\n",
       "\n",
       "    .dataframe tbody tr th {\n",
       "        vertical-align: top;\n",
       "    }\n",
       "\n",
       "    .dataframe thead th {\n",
       "        text-align: right;\n",
       "    }\n",
       "</style>\n",
       "<table border=\"1\" class=\"dataframe\">\n",
       "  <thead>\n",
       "    <tr style=\"text-align: right;\">\n",
       "      <th></th>\n",
       "      <th>Unnamed: 0</th>\n",
       "      <th>YearsExperience</th>\n",
       "      <th>Salary</th>\n",
       "    </tr>\n",
       "  </thead>\n",
       "  <tbody>\n",
       "    <tr>\n",
       "      <th>25</th>\n",
       "      <td>25</td>\n",
       "      <td>9.1</td>\n",
       "      <td>105583.0</td>\n",
       "    </tr>\n",
       "    <tr>\n",
       "      <th>26</th>\n",
       "      <td>26</td>\n",
       "      <td>9.6</td>\n",
       "      <td>116970.0</td>\n",
       "    </tr>\n",
       "    <tr>\n",
       "      <th>27</th>\n",
       "      <td>27</td>\n",
       "      <td>9.7</td>\n",
       "      <td>112636.0</td>\n",
       "    </tr>\n",
       "    <tr>\n",
       "      <th>28</th>\n",
       "      <td>28</td>\n",
       "      <td>10.4</td>\n",
       "      <td>122392.0</td>\n",
       "    </tr>\n",
       "    <tr>\n",
       "      <th>29</th>\n",
       "      <td>29</td>\n",
       "      <td>10.6</td>\n",
       "      <td>121873.0</td>\n",
       "    </tr>\n",
       "  </tbody>\n",
       "</table>\n",
       "</div>"
      ],
      "text/plain": [
       "    Unnamed: 0  YearsExperience    Salary\n",
       "25          25              9.1  105583.0\n",
       "26          26              9.6  116970.0\n",
       "27          27              9.7  112636.0\n",
       "28          28             10.4  122392.0\n",
       "29          29             10.6  121873.0"
      ]
     },
     "execution_count": 7,
     "metadata": {},
     "output_type": "execute_result"
    }
   ],
   "source": [
    "df.tail()"
   ]
  },
  {
   "cell_type": "markdown",
   "id": "077c3dc8",
   "metadata": {
    "papermill": {
     "duration": 0.00785,
     "end_time": "2025-06-06T06:32:14.636036",
     "exception": false,
     "start_time": "2025-06-06T06:32:14.628186",
     "status": "completed"
    },
    "tags": []
   },
   "source": [
    "### Plot the chart"
   ]
  },
  {
   "cell_type": "code",
   "execution_count": 8,
   "id": "37bf10ae",
   "metadata": {
    "execution": {
     "iopub.execute_input": "2025-06-06T06:32:14.654581Z",
     "iopub.status.busy": "2025-06-06T06:32:14.653788Z",
     "iopub.status.idle": "2025-06-06T06:32:15.061669Z",
     "shell.execute_reply": "2025-06-06T06:32:15.060524Z"
    },
    "papermill": {
     "duration": 0.419981,
     "end_time": "2025-06-06T06:32:15.064107",
     "exception": false,
     "start_time": "2025-06-06T06:32:14.644126",
     "status": "completed"
    },
    "tags": []
   },
   "outputs": [
    {
     "data": {
      "text/plain": [
       "[]"
      ]
     },
     "execution_count": 8,
     "metadata": {},
     "output_type": "execute_result"
    },
    {
     "data": {
      "image/png": "[encoded data removed]",
      "text/plain": [
       "<Figure size 640x480 with 1 Axes>"
      ]
     },
     "metadata": {},
     "output_type": "display_data"
    }
   ],
   "source": [
    "x= df['YearsExperience']\n",
    "y= df['Salary']\n",
    "\n",
    "plt.scatter(x, y)\n",
    "plt.title ('Salary Vs. Experience')\n",
    "plt.xlabel('Experience (Years)')\n",
    "plt.ylabel('Salary')\n",
    "plt.plot()\n",
    "           "
   ]
  },
  {
   "cell_type": "markdown",
   "id": "cc4058ee",
   "metadata": {
    "papermill": {
     "duration": 0.008149,
     "end_time": "2025-06-06T06:32:15.081210",
     "exception": false,
     "start_time": "2025-06-06T06:32:15.073061",
     "status": "completed"
    },
    "tags": []
   },
   "source": [
    "### Evaluate Performance of Linear Models\n",
    "When evaluating the performance of linear models, several key metrics can be used to assess their accuracy, predictive power, and overall fit to the data. Below are some of the most commonly used metrics:\n",
    "\n",
    "| **Metric**                         | **Measures**                                                                                 | **Interpretation**                                                                                                           |\n",
    "|----------------------------------|------------------------------------------------------------------------------------------------------|-----------------------------------------------------------------------------------------------------------------------------|\n",
    "| R-squared (R²)               | The proportion of the variance in the dependent variable that is predictable from the independent variables. | A value closer to 1 indicates a better fit of the model. A value closer to 0 suggests that the model doesn't explain much.   |\n",
    "| Adjusted R-squared           | A modified version of R² that adjusts for the number of predictors in the model, accounting for overfitting. | Useful when comparing models with different numbers of predictors. It can decrease if adding predictors doesn't improve the model. |\n",
    "| Mean Absolute Error (MAE)    | The average of the absolute differences between predicted and true values.                           | A lower MAE indicates better model performance. Provides a straightforward interpretation of the average prediction error.   |\n",
    "| Mean Squared Error (MSE)     | The average of the squared differences between predicted and true values. It penalizes larger errors more than MAE. | A lower MSE indicates better performance. MSE is sensitive to outliers due to the squaring of errors.                        |\n",
    "| Root Mean Squared Error (RMSE)| The square root of the MSE, providing error measurement in the same units as the target variable.     | A lower RMSE means better model performance. Like MSE, it gives more weight to large errors.                                 |\n",
    "| Mean Absolute Percentage Error (MAPE) | The average of the absolute percentage errors between predicted and true values.                       | Useful for understanding relative error in percentage terms. It can be biased when actual values are small or near zero.    |\n",
    "| F-statistic     | Tests whether at least one of the predictors in the model is statistically significant.              | A higher F-statistic indicates that the model is a significant improvement over a model with no predictors (only intercept).  |\n",
    "| P-values (for individual predictors)** | Tests the null hypothesis that each predictor has no relationship with the dependent variable.       | A low p-value (< 0.05) suggests that the predictor significantly contributes to explaining the variation in the target variable. |\n",
    "| Residuals Analysis           | The residuals (errors) are the differences between observed and predicted values.                    | Residuals should be normally distributed and randomly scattered around zero. Patterns suggest non-linearity or heteroscedasticity. Key checks include the Residual vs. Fitted plot (for randomness) and the Histogram or Q-Q plot of residuals (for normality).|\n",
    "| Cross-validation Scores (e.g., K-fold cross-validation) | The model's performance averaged over multiple training and validation splits.                         | Provides a more reliable estimate of model performance on unseen data, mitigating overfitting. The average score is useful for comparison. |\n",
    "\n",
    "Each of these metrics can be used depending on the type of data and the goals of the analysis. For example, R² and adjusted R² are good for understanding the overall explanatory power, while MSE and RMSE are often used for evaluating prediction accuracy."
   ]
  },
  {
   "cell_type": "markdown",
   "id": "9138290f",
   "metadata": {
    "papermill": {
     "duration": 0.008054,
     "end_time": "2025-06-06T06:32:15.098420",
     "exception": false,
     "start_time": "2025-06-06T06:32:15.090366",
     "status": "completed"
    },
    "tags": []
   },
   "source": [
    "#### Step 1: Prepare Data (Train-Test Split)"
   ]
  },
  {
   "cell_type": "code",
   "execution_count": 9,
   "id": "e71c28de",
   "metadata": {
    "execution": {
     "iopub.execute_input": "2025-06-06T06:32:15.118029Z",
     "iopub.status.busy": "2025-06-06T06:32:15.117207Z",
     "iopub.status.idle": "2025-06-06T06:32:15.126301Z",
     "shell.execute_reply": "2025-06-06T06:32:15.125102Z"
    },
    "papermill": {
     "duration": 0.021938,
     "end_time": "2025-06-06T06:32:15.128799",
     "exception": false,
     "start_time": "2025-06-06T06:32:15.106861",
     "status": "completed"
    },
    "tags": []
   },
   "outputs": [],
   "source": [
    "# Assuming 'df' contains the columns 'YearsExperience' and 'Salary'\n",
    "X = df['YearsExperience'].values.reshape(-1, 1)  # Independent variable (YearsExperience)\n",
    "y = df['Salary'].values  # Dependent variable (Salary)\n",
    "\n",
    "# Split data into training (70%) and testing (30%) sets\n",
    "X_train, X_test, y_train, y_test = train_test_split(X, y, test_size=0.3, random_state=42)"
   ]
  },
  {
   "cell_type": "markdown",
   "id": "938f6d6c",
   "metadata": {
    "papermill": {
     "duration": 0.00807,
     "end_time": "2025-06-06T06:32:15.145632",
     "exception": false,
     "start_time": "2025-06-06T06:32:15.137562",
     "status": "completed"
    },
    "tags": []
   },
   "source": [
    "#### Step 2: Train Models"
   ]
  },
  {
   "cell_type": "code",
   "execution_count": 10,
   "id": "56d55a60",
   "metadata": {
    "execution": {
     "iopub.execute_input": "2025-06-06T06:32:15.164275Z",
     "iopub.status.busy": "2025-06-06T06:32:15.163902Z",
     "iopub.status.idle": "2025-06-06T06:32:15.366127Z",
     "shell.execute_reply": "2025-06-06T06:32:15.364968Z"
    },
    "papermill": {
     "duration": 0.214516,
     "end_time": "2025-06-06T06:32:15.368630",
     "exception": false,
     "start_time": "2025-06-06T06:32:15.154114",
     "status": "completed"
    },
    "tags": []
   },
   "outputs": [],
   "source": [
    "# Define models\n",
    "models = {\n",
    "    \"Linear Regression\": LinearRegression(),\n",
    "    \"Decision Tree Regression\": GradientBoostingRegressor(),\n",
    "    \"Random Forest Regression\": RandomForestRegressor(),\n",
    "    \"Support Vector Regression\": SVR()\n",
    "}\n",
    "\n",
    "# Fit models on training data and make predictions\n",
    "model_results = {}\n",
    "for name, model in models.items():\n",
    "    model.fit(X_train, y_train)\n",
    "    y_train_pred = model.predict(X_train)\n",
    "    y_test_pred = model.predict(X_test)\n",
    "    \n",
    "    # Store results\n",
    "    model_results[name] = {\n",
    "        'Model': model,\n",
    "        'y_train_pred': y_train_pred,\n",
    "        'y_test_pred': y_test_pred,\n",
    "        'y_train': y_train,\n",
    "        'y_test': y_test\n",
    "    }"
   ]
  },
  {
   "cell_type": "markdown",
   "id": "d5a6247f",
   "metadata": {
    "papermill": {
     "duration": 0.008731,
     "end_time": "2025-06-06T06:32:15.387122",
     "exception": false,
     "start_time": "2025-06-06T06:32:15.378391",
     "status": "completed"
    },
    "tags": []
   },
   "source": [
    "#### Step 3: Compare Actual vs Predicted Values and Accuracy"
   ]
  },
  {
   "cell_type": "code",
   "execution_count": 11,
   "id": "2ff98236",
   "metadata": {
    "execution": {
     "iopub.execute_input": "2025-06-06T06:32:15.406313Z",
     "iopub.status.busy": "2025-06-06T06:32:15.405947Z",
     "iopub.status.idle": "2025-06-06T06:32:15.434120Z",
     "shell.execute_reply": "2025-06-06T06:32:15.432955Z"
    },
    "papermill": {
     "duration": 0.040255,
     "end_time": "2025-06-06T06:32:15.436387",
     "exception": false,
     "start_time": "2025-06-06T06:32:15.396132",
     "status": "completed"
    },
    "tags": []
   },
   "outputs": [
    {
     "data": {
      "text/html": [
       "<div>\n",
       "<style scoped>\n",
       "    .dataframe tbody tr th:only-of-type {\n",
       "        vertical-align: middle;\n",
       "    }\n",
       "\n",
       "    .dataframe tbody tr th {\n",
       "        vertical-align: top;\n",
       "    }\n",
       "\n",
       "    .dataframe thead th {\n",
       "        text-align: right;\n",
       "    }\n",
       "</style>\n",
       "<table border=\"1\" class=\"dataframe\">\n",
       "  <thead>\n",
       "    <tr style=\"text-align: right;\">\n",
       "      <th></th>\n",
       "      <th>Model</th>\n",
       "      <th>Train R²</th>\n",
       "      <th>Test R²</th>\n",
       "      <th>Train MAE</th>\n",
       "      <th>Test MAE</th>\n",
       "      <th>Train Accuracy (%)</th>\n",
       "      <th>Test Accuracy (%)</th>\n",
       "      <th>Fit Status</th>\n",
       "    </tr>\n",
       "  </thead>\n",
       "  <tbody>\n",
       "    <tr>\n",
       "      <th>0</th>\n",
       "      <td>Linear Regression</td>\n",
       "      <td>0.957453</td>\n",
       "      <td>0.941447</td>\n",
       "      <td>4443.338173</td>\n",
       "      <td>5161.328710</td>\n",
       "      <td>95.745267</td>\n",
       "      <td>94.144662</td>\n",
       "      <td>Well-Fitted</td>\n",
       "    </tr>\n",
       "    <tr>\n",
       "      <th>1</th>\n",
       "      <td>Decision Tree Regression</td>\n",
       "      <td>0.999963</td>\n",
       "      <td>0.894473</td>\n",
       "      <td>118.069611</td>\n",
       "      <td>6295.648697</td>\n",
       "      <td>99.996306</td>\n",
       "      <td>89.447333</td>\n",
       "      <td>Well-Fitted</td>\n",
       "    </tr>\n",
       "    <tr>\n",
       "      <th>2</th>\n",
       "      <td>Random Forest Regression</td>\n",
       "      <td>0.992770</td>\n",
       "      <td>0.932056</td>\n",
       "      <td>1910.497143</td>\n",
       "      <td>5394.482222</td>\n",
       "      <td>99.277031</td>\n",
       "      <td>93.205570</td>\n",
       "      <td>Well-Fitted</td>\n",
       "    </tr>\n",
       "    <tr>\n",
       "      <th>3</th>\n",
       "      <td>Support Vector Regression</td>\n",
       "      <td>-0.145172</td>\n",
       "      <td>-1.082179</td>\n",
       "      <td>21399.242979</td>\n",
       "      <td>28223.237244</td>\n",
       "      <td>-14.517233</td>\n",
       "      <td>-108.217907</td>\n",
       "      <td>Overfit</td>\n",
       "    </tr>\n",
       "  </tbody>\n",
       "</table>\n",
       "</div>"
      ],
      "text/plain": [
       "                       Model  Train R²   Test R²     Train MAE      Test MAE  \\\n",
       "0          Linear Regression  0.957453  0.941447   4443.338173   5161.328710   \n",
       "1   Decision Tree Regression  0.999963  0.894473    118.069611   6295.648697   \n",
       "2   Random Forest Regression  0.992770  0.932056   1910.497143   5394.482222   \n",
       "3  Support Vector Regression -0.145172 -1.082179  21399.242979  28223.237244   \n",
       "\n",
       "   Train Accuracy (%)  Test Accuracy (%)   Fit Status  \n",
       "0           95.745267          94.144662  Well-Fitted  \n",
       "1           99.996306          89.447333  Well-Fitted  \n",
       "2           99.277031          93.205570  Well-Fitted  \n",
       "3          -14.517233        -108.217907      Overfit  "
      ]
     },
     "execution_count": 11,
     "metadata": {},
     "output_type": "execute_result"
    }
   ],
   "source": [
    "# Create dictionary to store the model predictions and actual values\n",
    "comparison_table = []\n",
    "\n",
    "# Loop over each model's results\n",
    "for name, results in model_results.items():\n",
    "    # Calculate MAE and R2 for both train and test data\n",
    "    train_mae = mean_absolute_error(results['y_train'], results['y_train_pred'])\n",
    "    test_mae = mean_absolute_error(results['y_test'], results['y_test_pred'])\n",
    "    \n",
    "    train_r2 = r2_score(results['y_train'], results['y_train_pred'])\n",
    "    test_r2 = r2_score(results['y_test'], results['y_test_pred'])\n",
    "    \n",
    "    # Convert R2 to percentage (for accuracy)\n",
    "    train_accuracy = train_r2 * 100  # Training Accuracy as percentage\n",
    "    test_accuracy = test_r2 * 100    # Test Accuracy as percentage\n",
    "    \n",
    "    # Determine overfit/underfit status\n",
    "    if train_accuracy > test_accuracy + 20:\n",
    "        fit_status = 'Overfit'  # Overfitting if training accuracy is much higher than test\n",
    "    elif test_accuracy > train_accuracy:\n",
    "        fit_status = 'Underfit'  # Underfitting if test accuracy is higher than training\n",
    "    elif abs(train_accuracy - test_accuracy) <= 5:\n",
    "        fit_status = 'Well-Fitted'  # Well-fitted if training and test accuracy are close\n",
    "    else:\n",
    "        fit_status = 'Well-Fitted'  # Default assumption if no clear overfitting/underfitting\n",
    "    \n",
    "    # Append the results to the comparison table\n",
    "    comparison_table.append([name, train_r2, test_r2, train_mae, test_mae, train_accuracy, test_accuracy, fit_status])\n",
    "\n",
    "# Create a DataFrame to display the comparison table\n",
    "comparison_df = pd.DataFrame(comparison_table, columns=[\"Model\", \"Train R²\", \"Test R²\", \"Train MAE\", \"Test MAE\", \"Train Accuracy (%)\", \"Test Accuracy (%)\", \"Fit Status\"])\n",
    "\n",
    "# Display the comparison DataFrame\n",
    "comparison_df\n",
    "\n"
   ]
  },
  {
   "cell_type": "code",
   "execution_count": 12,
   "id": "f0318c4c",
   "metadata": {
    "execution": {
     "iopub.execute_input": "2025-06-06T06:32:15.455851Z",
     "iopub.status.busy": "2025-06-06T06:32:15.455447Z",
     "iopub.status.idle": "2025-06-06T06:32:15.780923Z",
     "shell.execute_reply": "2025-06-06T06:32:15.779655Z"
    },
    "papermill": {
     "duration": 0.337725,
     "end_time": "2025-06-06T06:32:15.783228",
     "exception": false,
     "start_time": "2025-06-06T06:32:15.445503",
     "status": "completed"
    },
    "tags": []
   },
   "outputs": [
    {
     "data": {
      "image/png": "[encoded data removed]",
      "text/plain": [
       "<Figure size 1000x600 with 1 Axes>"
      ]
     },
     "metadata": {},
     "output_type": "display_data"
    }
   ],
   "source": [
    "# Plotting the training and test accuracy for each model\n",
    "plt.figure(figsize=(10, 6))\n",
    "\n",
    "# Plot the training accuracy (R²) and test accuracy (R²) for each model\n",
    "plt.plot(comparison_df['Model'], comparison_df['Train Accuracy (%)'], label='Training Accuracy', marker='o')\n",
    "plt.plot(comparison_df['Model'], comparison_df['Test Accuracy (%)'], label='Test Accuracy', marker='o')\n",
    "\n",
    "# Adding labels and title\n",
    "plt.xlabel('Model')\n",
    "plt.ylabel('Accuracy (%)')\n",
    "plt.title('Training vs Test Accuracy for Each Model')\n",
    "plt.xticks(rotation=45)\n",
    "plt.legend()\n",
    "\n",
    "# Show the plot\n",
    "plt.tight_layout()\n",
    "plt.show()"
   ]
  },
  {
   "cell_type": "markdown",
   "id": "be536c99",
   "metadata": {
    "papermill": {
     "duration": 0.009559,
     "end_time": "2025-06-06T06:32:15.803861",
     "exception": false,
     "start_time": "2025-06-06T06:32:15.794302",
     "status": "completed"
    },
    "tags": []
   },
   "source": [
    "#### Step 4: Fit and improve models (Hyperparameter tuning for Random Forest, SVR)"
   ]
  },
  {
   "cell_type": "code",
   "execution_count": 13,
   "id": "600c3569",
   "metadata": {
    "execution": {
     "iopub.execute_input": "2025-06-06T06:32:15.826181Z",
     "iopub.status.busy": "2025-06-06T06:32:15.825785Z",
     "iopub.status.idle": "2025-06-06T06:32:19.202549Z",
     "shell.execute_reply": "2025-06-06T06:32:19.201128Z"
    },
    "papermill": {
     "duration": 3.390553,
     "end_time": "2025-06-06T06:32:19.205180",
     "exception": false,
     "start_time": "2025-06-06T06:32:15.814627",
     "status": "completed"
    },
    "tags": []
   },
   "outputs": [],
   "source": [
    "# Random Forest Regressor hyperparameter tuning\n",
    "from sklearn.model_selection import GridSearchCV\n",
    "\n",
    "rf = RandomForestRegressor()\n",
    "param_grid_rf = {\n",
    "    'n_estimators': [100, 200],\n",
    "    'max_depth': [10, 20, None]\n",
    "}\n",
    "\n",
    "grid_rf = GridSearchCV(estimator=rf, param_grid=param_grid_rf, cv=3, n_jobs=-1)\n",
    "grid_rf.fit(X_train, y_train)\n",
    "best_rf = grid_rf.best_estimator_\n",
    "\n",
    "# Update the results with the best model after fitting\n",
    "model_results['Random Forest Regression']['Model'] = best_rf\n",
    "\n",
    "# Support Vector Regression (SVR)\n",
    "svr = SVR()\n",
    "param_grid_svr = {\n",
    "    'C': [1, 10],\n",
    "    'gamma': ['scale', 'auto'],\n",
    "    'kernel': ['linear', 'rbf']\n",
    "}\n",
    "\n",
    "grid_svr = GridSearchCV(estimator=svr, param_grid=param_grid_svr, cv=3)\n",
    "grid_svr.fit(X_train, y_train)\n",
    "best_svr = grid_svr.best_estimator_\n",
    "\n",
    "model_results['Support Vector Regression']['Model'] = best_svr"
   ]
  },
  {
   "cell_type": "markdown",
   "id": "fb296f9d",
   "metadata": {
    "papermill": {
     "duration": 0.009729,
     "end_time": "2025-06-06T06:32:19.225016",
     "exception": false,
     "start_time": "2025-06-06T06:32:19.215287",
     "status": "completed"
    },
    "tags": []
   },
   "source": [
    "#### Step 5: Compare Model Improvement"
   ]
  },
  {
   "cell_type": "code",
   "execution_count": 14,
   "id": "a103c86e",
   "metadata": {
    "execution": {
     "iopub.execute_input": "2025-06-06T06:32:19.247606Z",
     "iopub.status.busy": "2025-06-06T06:32:19.247201Z",
     "iopub.status.idle": "2025-06-06T06:32:19.286105Z",
     "shell.execute_reply": "2025-06-06T06:32:19.285052Z"
    },
    "papermill": {
     "duration": 0.053101,
     "end_time": "2025-06-06T06:32:19.288302",
     "exception": false,
     "start_time": "2025-06-06T06:32:19.235201",
     "status": "completed"
    },
    "tags": []
   },
   "outputs": [
    {
     "data": {
      "text/html": [
       "<div>\n",
       "<style scoped>\n",
       "    .dataframe tbody tr th:only-of-type {\n",
       "        vertical-align: middle;\n",
       "    }\n",
       "\n",
       "    .dataframe tbody tr th {\n",
       "        vertical-align: top;\n",
       "    }\n",
       "\n",
       "    .dataframe thead th {\n",
       "        text-align: right;\n",
       "    }\n",
       "</style>\n",
       "<table border=\"1\" class=\"dataframe\">\n",
       "  <thead>\n",
       "    <tr style=\"text-align: right;\">\n",
       "      <th></th>\n",
       "      <th>Model</th>\n",
       "      <th>Train R2 Before</th>\n",
       "      <th>Train R2 After</th>\n",
       "      <th>R2 Improvement (%)</th>\n",
       "    </tr>\n",
       "  </thead>\n",
       "  <tbody>\n",
       "    <tr>\n",
       "      <th>0</th>\n",
       "      <td>Linear Regression</td>\n",
       "      <td>0.957453</td>\n",
       "      <td>0.957453</td>\n",
       "      <td>0.0</td>\n",
       "    </tr>\n",
       "    <tr>\n",
       "      <th>1</th>\n",
       "      <td>Decision Tree Regression</td>\n",
       "      <td>0.999963</td>\n",
       "      <td>0.999963</td>\n",
       "      <td>0.0</td>\n",
       "    </tr>\n",
       "    <tr>\n",
       "      <th>2</th>\n",
       "      <td>Random Forest Regression</td>\n",
       "      <td>0.992770</td>\n",
       "      <td>0.992770</td>\n",
       "      <td>0.0</td>\n",
       "    </tr>\n",
       "    <tr>\n",
       "      <th>3</th>\n",
       "      <td>Support Vector Regression</td>\n",
       "      <td>-0.145172</td>\n",
       "      <td>-0.145172</td>\n",
       "      <td>0.0</td>\n",
       "    </tr>\n",
       "  </tbody>\n",
       "</table>\n",
       "</div>"
      ],
      "text/plain": [
       "                       Model  Train R2 Before  Train R2 After  \\\n",
       "0          Linear Regression         0.957453        0.957453   \n",
       "1   Decision Tree Regression         0.999963        0.999963   \n",
       "2   Random Forest Regression         0.992770        0.992770   \n",
       "3  Support Vector Regression        -0.145172       -0.145172   \n",
       "\n",
       "   R2 Improvement (%)  \n",
       "0                 0.0  \n",
       "1                 0.0  \n",
       "2                 0.0  \n",
       "3                 0.0  "
      ]
     },
     "execution_count": 14,
     "metadata": {},
     "output_type": "execute_result"
    }
   ],
   "source": [
    "improvement_table = []\n",
    "for name, results in model_results.items():\n",
    "    y_train_pred_before = models[name].predict(X_train)\n",
    "    y_test_pred_before = models[name].predict(X_test)\n",
    "    \n",
    "    y_train_pred_after = results['y_train_pred']\n",
    "    y_test_pred_after = results['y_test_pred']\n",
    "    \n",
    "    train_r2_before = r2_score(results['y_train'], y_train_pred_before)\n",
    "    test_r2_before = r2_score(results['y_test'], y_test_pred_before)\n",
    "    \n",
    "    train_r2_after = r2_score(results['y_train'], y_train_pred_after)\n",
    "    test_r2_after = r2_score(results['y_test'], y_test_pred_after)\n",
    "    \n",
    "    r2_improvement = (train_r2_after - train_r2_before) * 100\n",
    "    \n",
    "    improvement_table.append([name, train_r2_before, train_r2_after, r2_improvement])\n",
    "\n",
    "improvement_df = pd.DataFrame(improvement_table, columns=[\"Model\", \"Train R2 Before\", \"Train R2 After\", \"R2 Improvement (%)\"])\n",
    "improvement_df"
   ]
  },
  {
   "cell_type": "markdown",
   "id": "17959b8d",
   "metadata": {
    "papermill": {
     "duration": 0.009658,
     "end_time": "2025-06-06T06:32:19.308147",
     "exception": false,
     "start_time": "2025-06-06T06:32:19.298489",
     "status": "completed"
    },
    "tags": []
   },
   "source": [
    "**Observations**\n",
    "- For Linear Regression, Decision Tree Regression, and Random Forest Regression, the models are already performing well in training, but no improvements were made.\n",
    "- The Support Vector Regression model requires attention, as it has a negative R² value, signifying that it is a poor fit for the data, and further modifications may be necessary to improve its performance."
   ]
  },
  {
   "cell_type": "markdown",
   "id": "d53014eb",
   "metadata": {
    "papermill": {
     "duration": 0.009521,
     "end_time": "2025-06-06T06:32:19.327758",
     "exception": false,
     "start_time": "2025-06-06T06:32:19.318237",
     "status": "completed"
    },
    "tags": []
   },
   "source": [
    "#### Step 6: Residual Analysis and Visualization\n",
    "Residual analysis helps evaluate how well a regression model fits the data by checking key assumptions, such as randomness, normality, and constant variance of errors. If any assumptions are violated, the model might need adjustments or a different approach.\n",
    "\n",
    "| **Key Aspect**                | **Explanation**                                                                                               | **Purpose**                                                                                                         |\n",
    "|-------------------------------|---------------------------------------------------------------------------------------------------------------|---------------------------------------------------------------------------------------------------------------------|\n",
    "| Residuals                  | The difference between the actual values (what really happened) and the predicted values (what the model said would happen). | To measure the errors of the model. Smaller residuals indicate better predictions.                                 |\n",
    "| Residual vs. Fitted Plot   | A scatter plot that shows residuals (errors) on the vertical axis and predicted values on the horizontal axis.  | To check if the model's errors are randomly distributed. A good model shows randomness (no patterns) in this plot. |\n",
    "| Histogram of Residuals     | A plot that shows the distribution of residuals (errors).                                                     | To check if residuals are normally distributed, which is a common assumption in regression.                       |\n",
    "| Q-Q Plot (Quantile-Quantile Plot) | A plot that compares the residuals' distribution to a normal distribution.                                      | To visually check if residuals follow a normal distribution. Points should align along a straight line for normality.|\n",
    "| Homoscedasticity | A condition where residuals have constant variance across all levels of the predicted values.                 | To check if the spread of residuals remains consistent. Variations in spread may indicate issues with the model.    |\n",
    "| Scale-Location Plot        | A plot showing the square root of the absolute residuals vs. the predicted values.                             | To check for homoscedasticity. A random spread of points indicates constant variance (good model).                 |\n",
    "| Outliers            | Data points that have large residuals, far from the rest of the data.                                          | To identify points that may disproportionately affect the model’s accuracy and results.                           |\n",
    "| Influential Points         | Data points that, if removed, would significantly change the model's fit.                                      | To identify points that might have a disproportionate influence on the model's predictions.                        |\n",
    "| Normality of Residuals     | Residuals should ideally follow a normal distribution (bell curve).                                            | To ensure that the model is not biased and to validate statistical tests that rely on normality.                  |"
   ]
  },
  {
   "cell_type": "code",
   "execution_count": 15,
   "id": "50c0571e",
   "metadata": {
    "execution": {
     "iopub.execute_input": "2025-06-06T06:32:19.350310Z",
     "iopub.status.busy": "2025-06-06T06:32:19.349910Z",
     "iopub.status.idle": "2025-06-06T06:32:20.473009Z",
     "shell.execute_reply": "2025-06-06T06:32:20.471694Z"
    },
    "papermill": {
     "duration": 1.137088,
     "end_time": "2025-06-06T06:32:20.475512",
     "exception": false,
     "start_time": "2025-06-06T06:32:19.338424",
     "status": "completed"
    },
    "tags": []
   },
   "outputs": [
    {
     "data": {
      "image/png": "[encoded data removed]",
      "text/plain": [
       "<Figure size 1200x800 with 4 Axes>"
      ]
     },
     "metadata": {},
     "output_type": "display_data"
    }
   ],
   "source": [
    "residuals_before = {}\n",
    "residuals_after = {}\n",
    "\n",
    "for name, results in model_results.items():\n",
    "    residuals_before[name] = results['y_train'] - models[name].predict(X_train)\n",
    "    residuals_after[name] = results['y_train'] - results['y_train_pred']\n",
    "\n",
    "# Residual Plots\n",
    "plt.figure(figsize=(12, 8))\n",
    "for i, (name, residuals) in enumerate(residuals_before.items(), 1):\n",
    "    plt.subplot(2, 2, i)\n",
    "    plt.scatter(X_train, residuals, label=\"Before Improvement\", alpha=0.5, color='blue')\n",
    "    plt.scatter(X_train, residuals_after[name], label=\"After Improvement\", alpha=0.5, color='red')\n",
    "    plt.title(f'Residuals: {name}')\n",
    "    plt.xlabel('YearsExperience')\n",
    "    plt.ylabel('Residuals')\n",
    "    plt.legend()\n",
    "\n",
    "plt.tight_layout()\n",
    "plt.show()"
   ]
  },
  {
   "cell_type": "markdown",
   "id": "6b3c95eb",
   "metadata": {
    "papermill": {
     "duration": 0.011565,
     "end_time": "2025-06-06T06:32:20.500542",
     "exception": false,
     "start_time": "2025-06-06T06:32:20.488977",
     "status": "completed"
    },
    "tags": []
   },
   "source": [
    "#### Step 7: Take User Input for Experience"
   ]
  },
  {
   "cell_type": "code",
   "execution_count": 16,
   "id": "b682937c",
   "metadata": {
    "execution": {
     "iopub.execute_input": "2025-06-06T06:32:20.526876Z",
     "iopub.status.busy": "2025-06-06T06:32:20.526425Z",
     "iopub.status.idle": "2025-06-06T06:32:21.047379Z",
     "shell.execute_reply": "2025-06-06T06:32:21.045373Z"
    },
    "papermill": {
     "duration": 0.536213,
     "end_time": "2025-06-06T06:32:21.049315",
     "exception": true,
     "start_time": "2025-06-06T06:32:20.513102",
     "status": "failed"
    },
    "tags": []
   },
   "outputs": [
    {
     "ename": "StdinNotImplementedError",
     "evalue": "raw_input was called, but this frontend does not support input requests.",
     "output_type": "error",
     "traceback": [
      "\u001b[0;31m---------------------------------------------------------------------------\u001b[0m",
      "\u001b[0;31mStdinNotImplementedError\u001b[0m                  Traceback (most recent call last)",
      "Cell \u001b[0;32mIn[16], line 1\u001b[0m\n\u001b[0;32m----> 1\u001b[0m years_experience \u001b[38;5;241m=\u001b[39m \u001b[38;5;28mfloat\u001b[39m(\u001b[38;5;28;43minput\u001b[39;49m\u001b[43m(\u001b[49m\u001b[38;5;124;43m\"\u001b[39;49m\u001b[38;5;124;43mEnter Experience of the candidate in years:\u001b[39;49m\u001b[38;5;124;43m\"\u001b[39;49m\u001b[43m)\u001b[49m)\n",
      "File \u001b[0;32m/opt/conda/lib/python3.10/site-packages/ipykernel/kernelbase.py:1281\u001b[0m, in \u001b[0;36mKernel.raw_input\u001b[0;34m(self, prompt)\u001b[0m\n\u001b[1;32m   1279\u001b[0m \u001b[38;5;28;01mif\u001b[39;00m \u001b[38;5;129;01mnot\u001b[39;00m \u001b[38;5;28mself\u001b[39m\u001b[38;5;241m.\u001b[39m_allow_stdin:\n\u001b[1;32m   1280\u001b[0m     msg \u001b[38;5;241m=\u001b[39m \u001b[38;5;124m\"\u001b[39m\u001b[38;5;124mraw_input was called, but this frontend does not support input requests.\u001b[39m\u001b[38;5;124m\"\u001b[39m\n\u001b[0;32m-> 1281\u001b[0m     \u001b[38;5;28;01mraise\u001b[39;00m StdinNotImplementedError(msg)\n\u001b[1;32m   1282\u001b[0m \u001b[38;5;28;01mreturn\u001b[39;00m \u001b[38;5;28mself\u001b[39m\u001b[38;5;241m.\u001b[39m_input_request(\n\u001b[1;32m   1283\u001b[0m     \u001b[38;5;28mstr\u001b[39m(prompt),\n\u001b[1;32m   1284\u001b[0m     \u001b[38;5;28mself\u001b[39m\u001b[38;5;241m.\u001b[39m_parent_ident[\u001b[38;5;124m\"\u001b[39m\u001b[38;5;124mshell\u001b[39m\u001b[38;5;124m\"\u001b[39m],\n\u001b[1;32m   1285\u001b[0m     \u001b[38;5;28mself\u001b[39m\u001b[38;5;241m.\u001b[39mget_parent(\u001b[38;5;124m\"\u001b[39m\u001b[38;5;124mshell\u001b[39m\u001b[38;5;124m\"\u001b[39m),\n\u001b[1;32m   1286\u001b[0m     password\u001b[38;5;241m=\u001b[39m\u001b[38;5;28;01mFalse\u001b[39;00m,\n\u001b[1;32m   1287\u001b[0m )\n",
      "\u001b[0;31mStdinNotImplementedError\u001b[0m: raw_input was called, but this frontend does not support input requests."
     ]
    }
   ],
   "source": [
    "years_experience = float(input(\"Enter Experience of the candidate in years:\"))"
   ]
  },
  {
   "cell_type": "markdown",
   "id": "b90eb96d",
   "metadata": {
    "papermill": {
     "duration": null,
     "end_time": null,
     "exception": null,
     "start_time": null,
     "status": "pending"
    },
    "tags": []
   },
   "source": [
    "#### Step 8: Predict Salary using Models"
   ]
  },
  {
   "cell_type": "code",
   "execution_count": null,
   "id": "57729e4e",
   "metadata": {
    "papermill": {
     "duration": null,
     "end_time": null,
     "exception": null,
     "start_time": null,
     "status": "pending"
    },
    "tags": []
   },
   "outputs": [],
   "source": [
    "# Check if entered years of experience exists in the dataset\n",
    "if years_experience in df['YearsExperience'].values:\n",
    "    # Get the actual salary for the entered years of experience\n",
    "    actual_salary = df[df['YearsExperience'] == years_experience]['Salary'].values[0]\n",
    "else:\n",
    "    actual_salary = None\n",
    "\n",
    "# Predict salary using models before and after improvement\n",
    "predictions_before = {}\n",
    "predictions_after = {}\n",
    "for name, results in model_results.items():\n",
    "    prediction_before = models[name].predict(np.array([[years_experience]]))\n",
    "    prediction_after = results['Model'].predict(np.array([[years_experience]]))\n",
    "    \n",
    "    predictions_before[name] = prediction_before[0]\n",
    "    predictions_after[name] = prediction_after[0]\n",
    "\n",
    "# Calculate Variance\n",
    "variance = {name: abs(predictions_before[name] - predictions_after[name]) for name in predictions_before}\n",
    "\n",
    "# Display Predictions and Variance in a table\n",
    "prediction_table = []\n",
    "for name in predictions_before:\n",
    "    prediction_table.append([name, predictions_before[name], predictions_after[name], variance[name]])\n",
    "\n",
    "prediction_df = pd.DataFrame(prediction_table, columns=[\"Model\", \"Before Improvement\", \"After Improvement\", \"Variance\"])\n",
    "\n",
    "# Show the actual salary if exists\n",
    "if actual_salary is not None:\n",
    "    print(f\"Actual Salary for {years_experience} years of experience: {actual_salary}\")\n",
    "else:\n",
    "    print(f\"Entered years of experience ({years_experience}) does not exist in the dataset.\")\n",
    "\n",
    "# Display the table of predictions\n",
    "prediction_df"
   ]
  },
  {
   "cell_type": "markdown",
   "id": "f9d91f16",
   "metadata": {
    "papermill": {
     "duration": null,
     "end_time": null,
     "exception": null,
     "start_time": null,
     "status": "pending"
    },
    "tags": []
   },
   "source": [
    "**Observations**\n",
    "- *Linear Regression* and *Decision Tree Regression* are not impacted by the improvements, implying that they were already performing optimally on the given data.\n",
    "- *Random Forest Regression* saw a small improvement, indicating that the applied changes had a slight positive effect.\n",
    "- *Support Vector Regression* benefited the most from the adjustments, showing a significant reduction in error or loss, which suggests it was the most improved model after the changes were made."
   ]
  },
  {
   "cell_type": "markdown",
   "id": "ff3408b2",
   "metadata": {
    "papermill": {
     "duration": null,
     "end_time": null,
     "exception": null,
     "start_time": null,
     "status": "pending"
    },
    "tags": []
   },
   "source": [
    "#### Step 9: Plot the actual vs predicted salary values for all models"
   ]
  },
  {
   "cell_type": "code",
   "execution_count": null,
   "id": "bc186a97",
   "metadata": {
    "papermill": {
     "duration": null,
     "end_time": null,
     "exception": null,
     "start_time": null,
     "status": "pending"
    },
    "tags": []
   },
   "outputs": [],
   "source": [
    "models_names = list(predictions_before.keys())\n",
    "actual_values = [actual_salary] * len(models_names) if actual_salary is not None else [None] * len(models_names)\n",
    "predicted_values_before = list(predictions_before.values())\n",
    "predicted_values_after = list(predictions_after.values())\n",
    "\n",
    "# Plot\n",
    "plt.figure(figsize=(10, 6))\n",
    "plt.plot(models_names, predicted_values_before, label=\"Before Improvement\", marker='o', linestyle='--', color='red')\n",
    "plt.plot(models_names, predicted_values_after, label=\"After Improvement\", marker='o', linestyle='-', color='blue')\n",
    "\n",
    "# If actual salary exists, plot it\n",
    "if actual_salary is not None:\n",
    "    plt.axhline(y=actual_salary, color='green', linestyle='-', label=\"Actual Salary\")\n",
    "\n",
    "plt.xlabel(\"Models\")\n",
    "plt.ylabel(\"Salary\")\n",
    "plt.title(\"Actual vs Predicted Salary (Before and After Improvement)\")\n",
    "plt.legend()\n",
    "plt.grid(True)\n",
    "plt.show()"
   ]
  },
  {
   "cell_type": "markdown",
   "id": "156c9076",
   "metadata": {
    "papermill": {
     "duration": null,
     "end_time": null,
     "exception": null,
     "start_time": null,
     "status": "pending"
    },
    "tags": []
   },
   "source": [
    "#### Step 10: Calculate Evaluation Metrics"
   ]
  },
  {
   "cell_type": "code",
   "execution_count": null,
   "id": "806de922",
   "metadata": {
    "papermill": {
     "duration": null,
     "end_time": null,
     "exception": null,
     "start_time": null,
     "status": "pending"
    },
    "tags": []
   },
   "outputs": [],
   "source": [
    "evaluation_metrics = []\n",
    "for name, results in model_results.items():\n",
    "    y_train_pred = results['y_train_pred']\n",
    "    y_test_pred = results['y_test_pred']\n",
    "    \n",
    "    r2_train = r2_score(results['y_train'], y_train_pred)\n",
    "    r2_test = r2_score(results['y_test'], y_test_pred)\n",
    "    \n",
    "    mae_train = mean_absolute_error(results['y_train'], y_train_pred)\n",
    "    mae_test = mean_absolute_error(results['y_test'], y_test_pred)\n",
    "    \n",
    "    mse_train = mean_squared_error(results['y_train'], y_train_pred)\n",
    "    mse_test = mean_squared_error(results['y_test'], y_test_pred)\n",
    "    \n",
    "    rmse_train = np.sqrt(mse_train)\n",
    "    rmse_test = np.sqrt(mse_test)\n",
    "    \n",
    "    mape_train = mean_absolute_percentage_error(results['y_train'], y_train_pred)\n",
    "    mape_test = mean_absolute_percentage_error(results['y_test'], y_test_pred)\n",
    "    \n",
    "    # Statsmodels for F-statistic and P-values\n",
    "    X_train_sm = sm.add_constant(X_train)  # Add constant to X for statsmodels\n",
    "    model_sm = sm.OLS(results['y_train'], X_train_sm).fit()\n",
    "    f_stat = model_sm.fvalue\n",
    "    p_values = model_sm.pvalues\n",
    "    \n",
    "    # Cross-validation\n",
    "    cv_scores = cross_val_score(results['Model'], X_train, y_train, cv=5)\n",
    "    \n",
    "    evaluation_metrics.append([name, r2_train, r2_test, mae_train, mae_test, mse_train, mse_test, rmse_train, rmse_test, mape_train, mape_test, f_stat, p_values[0], np.mean(cv_scores)])\n",
    "\n",
    "evaluation_df = pd.DataFrame(evaluation_metrics, columns=[\n",
    "    \"Model\", \"Train R2\", \"Test R2\", \"Train MAE\", \"Test MAE\", \"Train MSE\", \"Test MSE\", \n",
    "    \"Train RMSE\", \"Test RMSE\", \"Train MAPE\", \"Test MAPE\", \"F-statistic\", \"P-value\", \"Cross-validation score\"\n",
    "])\n",
    "\n",
    "evaluation_df"
   ]
  },
  {
   "cell_type": "markdown",
   "id": "a75aaf8d",
   "metadata": {
    "papermill": {
     "duration": null,
     "end_time": null,
     "exception": null,
     "start_time": null,
     "status": "pending"
    },
    "tags": []
   },
   "source": [
    "**Observations**\n",
    "- *Linear Regression* and *Random Forest Regression* are the top-performing models in terms of generalization, with good performance on both training and test data, though *Random Forest* slightly outperforms *Linear Regression*.\n",
    "- *Decision Tree Regression* shows significant overfitting, with excellent performance on the training data but a drastic drop in test performance.\n",
    "- *Support Vector Regression (SVR)* is the worst-performing model, with very poor predictive power, as indicated by the negative R² values, high MAE, MSE, RMSE, and MAPE.\n",
    "- In summary, *Linear Regression* and *Random Forest Regression* are the most reliable models, with *Random Forest* being slightly superior in this case, while *Support Vector Regression (SVR)* requires significant adjustments, and *Decision Tree Regression* suffers from overfitting."
   ]
  },
  {
   "cell_type": "markdown",
   "id": "1e18ad39",
   "metadata": {
    "papermill": {
     "duration": null,
     "end_time": null,
     "exception": null,
     "start_time": null,
     "status": "pending"
    },
    "tags": []
   },
   "source": [
    "### Key Learnings"
   ]
  },
  {
   "cell_type": "markdown",
   "id": "6fbbee0f",
   "metadata": {
    "papermill": {
     "duration": null,
     "end_time": null,
     "exception": null,
     "start_time": null,
     "status": "pending"
    },
    "tags": []
   },
   "source": [
    "#### Limitations\n",
    "1. **Simplistic Metrics**: The evaluation relies on basic metrics like R² and MAE. While useful, these metrics alone may not fully capture the performance nuances of complex models or the underlying problem. For example, models might show similar R² values but behave differently in other aspects (e.g., bias vs. variance tradeoff, model robustness).\n",
    "   \n",
    "2. **Lack of Model Tuning**: The code does not include steps for hyperparameter tuning or model optimization (e.g., grid search, random search). It compares models based on default settings, which may not represent the best performance for each model.\n",
    "\n",
    "3. **Assumption of Data Quality**: The analysis assumes that the dataset (`df`) is clean and properly preprocessed. If the data contains noise, outliers, or missing values, the model performance might be adversely affected. The code does not include data cleaning steps.\n",
    "\n",
    "4. **Limited to Regression Problems**: The models used (Linear Regression, Random Forest, etc.) are typically for regression tasks. For classification tasks, different models (like decision trees for classification or SVM for classification) would be needed, and the metrics (e.g., accuracy, precision, recall) would also differ.\n",
    "\n",
    "5. **Evaluation Metrics Might Not Capture All Insights**: While R² and MAE are common metrics, they might not always provide complete insights into model performance, especially in cases where there is skewness in data or outliers that could influence the metrics.\n",
    "\n",
    "6. **Overfitting/Underfitting Detection**: The code provides some insight into overfitting/underfitting by comparing training and test performance. However, it doesn’t perform more advanced diagnostics like cross-validation or plotting learning curves to further investigate these issues.\n",
    "\n",
    "7. **Limited Residual Analysis**: Although the code briefly mentions residual analysis, it does not include detailed residual diagnostics (e.g., residual plots) that could help uncover model issues or assumptions violations, especially in regression tasks.\n",
    "\n",
    "#### Conclusion\n",
    "The code is valuable in providing a comparative performance analysis of multiple regression models on both training and test datasets. It helps users identify the most effective model and visualize key performance differences. However, its limitations lie in the use of basic evaluation metrics, lack of advanced tuning, and potential neglect of some important diagnostics (such as cross-validation and residual analysis). For users looking to further optimize and validate their models, additional steps like hyperparameter tuning, advanced diagnostics, and comprehensive validation strategies would be beneficial."
   ]
  },
  {
   "cell_type": "markdown",
   "id": "a02262c8",
   "metadata": {
    "papermill": {
     "duration": null,
     "end_time": null,
     "exception": null,
     "start_time": null,
     "status": "pending"
    },
    "tags": []
   },
   "source": [
    "> 📣 **Help Me Improve**\n",
    ">\n",
    "> If you found this notebook helpful, please consider giving it an upvote — it really helps!\n",
    ">\n",
    "> Your feedback is always welcome and appreciated.\n",
    ">\n",
    "> If you notice any issues, have suggestions, or just want to share your thoughts, feel free to leave a comment.\n",
    ">\n",
    "> Thanks a lot for your support and time!"
   ]
  },
  {
   "cell_type": "markdown",
   "id": "83a61500",
   "metadata": {
    "papermill": {
     "duration": null,
     "end_time": null,
     "exception": null,
     "start_time": null,
     "status": "pending"
    },
    "tags": []
   },
   "source": [
    "---\n",
    "© 2024 Saurabh Kudesia\n",
    "\n",
    "*This project is licensed under the [MIT License](https://opensource.org/licenses/MIT). You are free to use, modify, and distribute this code, provided you include proper attribution and retain the license notice.* [![License: MIT](https://img.shields.io/badge/License-MIT-blue.svg)](https://opensource.org/licenses/MIT)"
   ]
  }
 ],
 "metadata": {
  "kaggle": {
   "accelerator": "none",
   "dataSources": [
    {
     "datasetId": 2799910,
     "sourceId": 4832081,
     "sourceType": "datasetVersion"
    }
   ],
   "dockerImageVersionId": 30804,
   "isGpuEnabled": false,
   "isInternetEnabled": true,
   "language": "python",
   "sourceType": "notebook"
  },
  "kernelspec": {
   "display_name": "Python 3",
   "language": "python",
   "name": "python3"
  },
  "language_info": {
   "codemirror_mode": {
    "name": "ipython",
    "version": 3
   },
   "file_extension": ".py",
   "mimetype": "text/x-python",
   "name": "python",
   "nbconvert_exporter": "python",
   "pygments_lexer": "ipython3",
   "version": "3.10.14"
  },
  "papermill": {
   "default_parameters": {},
   "duration": 17.910286,
   "end_time": "2025-06-06T06:32:23.682518",
   "environment_variables": {},
   "exception": true,
   "input_path": "__notebook__.ipynb",
   "output_path": "__notebook__.ipynb",
   "parameters": {},
   "start_time": "2025-06-06T06:32:05.772232",
   "version": "2.6.0"
  }
 },
 "nbformat": 4,
 "nbformat_minor": 5
}
